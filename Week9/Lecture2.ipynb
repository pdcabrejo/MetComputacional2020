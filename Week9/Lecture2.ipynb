{
 "cells": [
  {
   "cell_type": "code",
   "execution_count": 1,
   "metadata": {},
   "outputs": [],
   "source": [
    "# %matplotlib notebook\n",
    "import numpy as np\n",
    "import matplotlib.pyplot as plt\n",
    "from mpl_toolkits.mplot3d import Axes3D\n",
    "from matplotlib import cm\n",
    "\n",
    "import mglearn\n",
    "import sklearn\n",
    "from sklearn.decomposition import PCA\n",
    "from sklearn.datasets import load_breast_cancer"
   ]
  },
  {
   "cell_type": "code",
   "execution_count": 29,
   "metadata": {},
   "outputs": [
    {
     "name": "stdout",
     "output_type": "stream",
     "text": [
      "[[ 3. -1. -1.]\n",
      " [-1.  3.  1.]\n",
      " [ 2.  1.  4.]]\n"
     ]
    }
   ],
   "source": [
    "M = np.array([[3,-1,-1],[-1.,3.,1.],[2.,1.,4.]])\n",
    "print(M)"
   ]
  },
  {
   "cell_type": "code",
   "execution_count": 30,
   "metadata": {},
   "outputs": [
    {
     "name": "stdout",
     "output_type": "stream",
     "text": [
      "[1. 3. 7.]\n"
     ]
    }
   ],
   "source": [
    "b = np.array([1.,3.,7.])\n",
    "print(b)"
   ]
  },
  {
   "cell_type": "markdown",
   "metadata": {},
   "source": [
    "# Método de eliminación Gaussiana\n",
    "\n",
    "1. Diagonalizar la matriz con unos en la diagonal\n",
    "2. Hacer la sustiución hacia atrás $ x_{i} = \\frac{b_{i} - \\sum_{j = i+1}^{n} a_{ij}x_{j}}{a_{ii}} $"
   ]
  },
  {
   "cell_type": "code",
   "execution_count": 33,
   "metadata": {},
   "outputs": [],
   "source": [
    "def GetGaussJordan(M_, b_):\n",
    "    A = M_.copy()\n",
    "    b = b_.copy()\n",
    "    \n",
    "    A = np.float_(A)\n",
    "    b = np.float_(b)\n",
    "    \n",
    "    n = len(b)\n",
    "    \n",
    "    for i in range(n):\n",
    "        # Unos en la diagonal\n",
    "        a = A[i,i]\n",
    "        A[i,:] = A[i,:]/a # Dividir toda la fila por el valor de la diagonal\n",
    "        b[i] = b[i]/a\n",
    "        \n",
    "        print(A)\n",
    "        for j in range(i+1, n):\n",
    "            a = A[j,i] # Tomar el primer elemento de la segunda fila\n",
    "            A[j,:] = A[j,:]-a*A[i,:] \n",
    "            b[j] = b[j] - a*b[i]\n",
    "    \n",
    "    x = b.copy()\n",
    "    \n",
    "    # Hacer sustitucion hacia atras\n",
    "    \n",
    "    for i in range(n-1,-1,-1):\n",
    "        print(i)\n",
    "        for j in range(i+1,n):\n",
    "            x[i] = (x[i] - A[i,j]*x[j])/A[i,i]\n",
    "    \n",
    "    \n",
    "    return x, A, b"
   ]
  },
  {
   "cell_type": "code",
   "execution_count": 34,
   "metadata": {},
   "outputs": [
    {
     "name": "stdout",
     "output_type": "stream",
     "text": [
      "[[ 1.         -0.33333333 -0.33333333]\n",
      " [-1.          3.          1.        ]\n",
      " [ 2.          1.          4.        ]]\n",
      "[[ 1.         -0.33333333 -0.33333333]\n",
      " [ 0.          1.          0.25      ]\n",
      " [ 0.          1.66666667  4.66666667]]\n",
      "[[ 1.         -0.33333333 -0.33333333]\n",
      " [ 0.          1.          0.25      ]\n",
      " [ 0.          0.          1.        ]]\n",
      "2\n",
      "1\n",
      "0\n"
     ]
    }
   ],
   "source": [
    "Xsol, NewM, Newb = GetGaussJordan(M,b)"
   ]
  },
  {
   "cell_type": "code",
   "execution_count": 35,
   "metadata": {},
   "outputs": [
    {
     "name": "stdout",
     "output_type": "stream",
     "text": [
      "[0.33333333 1.25       1.        ]\n"
     ]
    }
   ],
   "source": [
    "print(Newb)"
   ]
  },
  {
   "cell_type": "code",
   "execution_count": 36,
   "metadata": {},
   "outputs": [
    {
     "name": "stdout",
     "output_type": "stream",
     "text": [
      "[[ 1.         -0.33333333 -0.33333333]\n",
      " [ 0.          1.          0.25      ]\n",
      " [ 0.          0.          1.        ]]\n"
     ]
    }
   ],
   "source": [
    "print(NewM)"
   ]
  },
  {
   "cell_type": "code",
   "execution_count": 37,
   "metadata": {},
   "outputs": [
    {
     "name": "stdout",
     "output_type": "stream",
     "text": [
      "[1. 1. 1.]\n"
     ]
    }
   ],
   "source": [
    "print(Xsol)"
   ]
  },
  {
   "cell_type": "markdown",
   "metadata": {},
   "source": [
    "# Usando la inversion matricial"
   ]
  },
  {
   "cell_type": "code",
   "execution_count": 38,
   "metadata": {},
   "outputs": [
    {
     "name": "stdout",
     "output_type": "stream",
     "text": [
      "[[ 0.32352941  0.08823529  0.05882353]\n",
      " [ 0.17647059  0.41176471 -0.05882353]\n",
      " [-0.20588235 -0.14705882  0.23529412]]\n"
     ]
    }
   ],
   "source": [
    "Inv_M = np.linalg.inv(M)\n",
    "print(Inv_M)"
   ]
  },
  {
   "cell_type": "code",
   "execution_count": 39,
   "metadata": {},
   "outputs": [
    {
     "name": "stdout",
     "output_type": "stream",
     "text": [
      "[1. 1. 1.]\n"
     ]
    }
   ],
   "source": [
    "Xsol = np.dot(Inv_M,b)\n",
    "print(Xsol)"
   ]
  },
  {
   "cell_type": "markdown",
   "metadata": {},
   "source": [
    "# Ajuste por minimos cuadrados"
   ]
  },
  {
   "cell_type": "code",
   "execution_count": 40,
   "metadata": {},
   "outputs": [],
   "source": [
    "x = np.array([0,1,2,3])\n",
    "y = np.array([-0.7, 0.2,1.1,2.3])"
   ]
  },
  {
   "cell_type": "markdown",
   "metadata": {},
   "source": [
    "Llevar el problema a $y = Ap$, con $A = [[x \\ 1]]$ y $p[[m], [b]]$"
   ]
  },
  {
   "cell_type": "code",
   "execution_count": 44,
   "metadata": {},
   "outputs": [
    {
     "name": "stdout",
     "output_type": "stream",
     "text": [
      "[[0. 1.]\n",
      " [1. 1.]\n",
      " [2. 1.]\n",
      " [3. 1.]]\n"
     ]
    }
   ],
   "source": [
    "# Primero debemos construir la matrix A\n",
    "\n",
    "A = np.vstack(  [x, np.ones(len(x))] ).T\n",
    "print(A)"
   ]
  },
  {
   "cell_type": "code",
   "execution_count": 46,
   "metadata": {},
   "outputs": [
    {
     "name": "stdout",
     "output_type": "stream",
     "text": [
      "(0.9899999999999997, -0.7599999999999989)\n"
     ]
    }
   ],
   "source": [
    "# Fitting\n",
    "m, b = np.linalg.lstsq(A, y, rcond=None)[0]\n",
    "print(m, b)"
   ]
  },
  {
   "cell_type": "code",
   "execution_count": 47,
   "metadata": {},
   "outputs": [
    {
     "data": {
      "image/png": "[encoded data removed]",
      "text/plain": [
       "<Figure size 432x288 with 1 Axes>"
      ]
     },
     "metadata": {
      "needs_background": "light"
     },
     "output_type": "display_data"
    }
   ],
   "source": [
    "plt.plot(x,y,'ro', markersize=8, label='Data')\n",
    "plt.plot(x, m*x+b, 'g', label='lineal fitting')\n",
    "plt.legend()\n",
    "plt.show()"
   ]
  },
  {
   "cell_type": "code",
   "execution_count": null,
   "metadata": {},
   "outputs": [],
   "source": []
  }
 ],
 "metadata": {
  "kernelspec": {
   "display_name": "Python 3",
   "language": "python",
   "name": "python3"
  },
  "language_info": {
   "codemirror_mode": {
    "name": "ipython",
    "version": 2
   },
   "file_extension": ".py",
   "mimetype": "text/x-python",
   "name": "python",
   "nbconvert_exporter": "python",
   "pygments_lexer": "ipython2",
   "version": "2.7.16"
  }
 },
 "nbformat": 4,
 "nbformat_minor": 2
}
