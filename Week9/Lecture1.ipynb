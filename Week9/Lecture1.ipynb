{
 "cells": [
  {
   "cell_type": "code",
   "execution_count": 51,
   "metadata": {},
   "outputs": [],
   "source": [
    "%matplotlib notebook\n",
    "import numpy as np\n",
    "import matplotlib.pyplot as plt\n",
    "from mpl_toolkits.mplot3d import Axes3D\n",
    "from matplotlib import cm"
   ]
  },
  {
   "cell_type": "markdown",
   "metadata": {},
   "source": [
    "# Arrays with numpy "
   ]
  },
  {
   "cell_type": "code",
   "execution_count": 2,
   "metadata": {},
   "outputs": [
    {
     "data": {
      "text/plain": [
       "[1.0, 3.0, 6.0, 1.0, 3.0, 6.0]"
      ]
     },
     "execution_count": 2,
     "metadata": {},
     "output_type": "execute_result"
    }
   ],
   "source": [
    "x = [1.,3.,6.]\n",
    "x+x"
   ]
  },
  {
   "cell_type": "code",
   "execution_count": 3,
   "metadata": {},
   "outputs": [
    {
     "data": {
      "text/plain": [
       "array([ 2.,  6., 12.])"
      ]
     },
     "execution_count": 3,
     "metadata": {},
     "output_type": "execute_result"
    }
   ],
   "source": [
    "y = np.array([1.,3.,6.])\n",
    "y+y"
   ]
  },
  {
   "cell_type": "code",
   "execution_count": 4,
   "metadata": {},
   "outputs": [
    {
     "data": {
      "text/plain": [
       "array([ 8.41470985e-01,  3.42921620e+01, -2.17273491e+03])"
      ]
     },
     "execution_count": 4,
     "metadata": {},
     "output_type": "execute_result"
    }
   ],
   "source": [
    "np.sin(y)*y**5"
   ]
  },
  {
   "cell_type": "code",
   "execution_count": 5,
   "metadata": {},
   "outputs": [
    {
     "data": {
      "text/plain": [
       "array([[ 1,  4,  9],\n",
       "       [16, 25, 36],\n",
       "       [49, 64, 81]])"
      ]
     },
     "execution_count": 5,
     "metadata": {},
     "output_type": "execute_result"
    }
   ],
   "source": [
    "a = np.array([[1,2,3],[4,5,6],[7,8,9]])\n",
    "a*a"
   ]
  },
  {
   "cell_type": "code",
   "execution_count": 6,
   "metadata": {},
   "outputs": [
    {
     "data": {
      "text/plain": [
       "array([[ 30,  36,  42],\n",
       "       [ 66,  81,  96],\n",
       "       [102, 126, 150]])"
      ]
     },
     "execution_count": 6,
     "metadata": {},
     "output_type": "execute_result"
    }
   ],
   "source": [
    "np.dot(a,a)"
   ]
  },
  {
   "cell_type": "code",
   "execution_count": 7,
   "metadata": {},
   "outputs": [
    {
     "data": {
      "text/plain": [
       "array([[ 3,  8, 15],\n",
       "       [12, 20, 30],\n",
       "       [21, 32, 45]])"
      ]
     },
     "execution_count": 7,
     "metadata": {},
     "output_type": "execute_result"
    }
   ],
   "source": [
    "x = np.array([3,4,5])\n",
    "a*x"
   ]
  },
  {
   "cell_type": "code",
   "execution_count": 8,
   "metadata": {},
   "outputs": [
    {
     "data": {
      "text/plain": [
       "array([54, 66, 78])"
      ]
     },
     "execution_count": 8,
     "metadata": {},
     "output_type": "execute_result"
    }
   ],
   "source": [
    "np.dot(x,a)"
   ]
  },
  {
   "cell_type": "code",
   "execution_count": 9,
   "metadata": {},
   "outputs": [
    {
     "name": "stdout",
     "output_type": "stream",
     "text": [
      "[[1 2 3]\n",
      " [4 5 6]\n",
      " [7 8 9]]\n",
      "[[1 4 7]\n",
      " [2 5 8]\n",
      " [3 6 9]]\n"
     ]
    }
   ],
   "source": [
    "# Transpuesta\n",
    "print(a)\n",
    "print(a.T)"
   ]
  },
  {
   "cell_type": "code",
   "execution_count": 10,
   "metadata": {},
   "outputs": [
    {
     "name": "stdout",
     "output_type": "stream",
     "text": [
      "[3 4 5]\n",
      "[3 4 5]\n"
     ]
    }
   ],
   "source": [
    "print(x)\n",
    "print(x.T)"
   ]
  },
  {
   "cell_type": "code",
   "execution_count": 11,
   "metadata": {},
   "outputs": [
    {
     "data": {
      "text/plain": [
       "matrix([[1, 2, 3],\n",
       "        [4, 5, 6],\n",
       "        [7, 8, 9]])"
      ]
     },
     "execution_count": 11,
     "metadata": {},
     "output_type": "execute_result"
    }
   ],
   "source": [
    "np.matrix(\"1,2,3;4,5,6;7,8,9\")"
   ]
  },
  {
   "cell_type": "code",
   "execution_count": 12,
   "metadata": {},
   "outputs": [
    {
     "data": {
      "text/plain": [
       "4"
      ]
     },
     "execution_count": 12,
     "metadata": {},
     "output_type": "execute_result"
    }
   ],
   "source": [
    "a = np.matrix(\"3,4,5\")\n",
    "a[0,1]"
   ]
  },
  {
   "cell_type": "code",
   "execution_count": 14,
   "metadata": {},
   "outputs": [
    {
     "data": {
      "text/plain": [
       "2"
      ]
     },
     "execution_count": 14,
     "metadata": {},
     "output_type": "execute_result"
    }
   ],
   "source": [
    "#np.rank(np.array(a))\n",
    "np.ndim(np.array(a))"
   ]
  },
  {
   "cell_type": "code",
   "execution_count": 16,
   "metadata": {},
   "outputs": [
    {
     "name": "stdout",
     "output_type": "stream",
     "text": [
      "[ 1.61168440e+01 -1.11684397e+00 -1.30367773e-15]\n"
     ]
    }
   ],
   "source": [
    "# Obtener auto-valores y auto-vectores\n",
    "\n",
    "a = np.array([[1,2,3],[4,5,6],[7,8,9]])\n",
    "evals, evecs = np.linalg.eig(a)\n",
    "print(evals)"
   ]
  },
  {
   "cell_type": "code",
   "execution_count": 17,
   "metadata": {},
   "outputs": [
    {
     "name": "stdout",
     "output_type": "stream",
     "text": [
      "[[-0.23197069 -0.78583024  0.40824829]\n",
      " [-0.52532209 -0.08675134 -0.81649658]\n",
      " [-0.8186735   0.61232756  0.40824829]]\n"
     ]
    }
   ],
   "source": [
    "print(evecs)"
   ]
  },
  {
   "cell_type": "markdown",
   "metadata": {},
   "source": [
    "# Matriz para invertir"
   ]
  },
  {
   "cell_type": "code",
   "execution_count": 18,
   "metadata": {},
   "outputs": [
    {
     "name": "stdout",
     "output_type": "stream",
     "text": [
      "[[ 3. -1. -1.]\n",
      " [-1.  3.  1.]\n",
      " [ 2.  1.  4.]]\n"
     ]
    }
   ],
   "source": [
    "M = np.array([[3,-1,-1],[-1.,3.,1.],[2,1,4]])\n",
    "print(M)"
   ]
  },
  {
   "cell_type": "code",
   "execution_count": 19,
   "metadata": {},
   "outputs": [
    {
     "name": "stdout",
     "output_type": "stream",
     "text": [
      "[1. 3. 7.]\n"
     ]
    }
   ],
   "source": [
    "b = np.array([1.,3.,7.])\n",
    "print(b)"
   ]
  },
  {
   "cell_type": "markdown",
   "metadata": {},
   "source": [
    "# Método de Jacobi\n",
    "\n",
    "$$ x_{i}^{k+1} = \\frac{1}{a_{ii}}( b_{i} - \\sum_{i \\neq j} a_{ij}x_{j}^{k} ), i = 1,2,3,... $$"
   ]
  },
  {
   "cell_type": "code",
   "execution_count": 20,
   "metadata": {},
   "outputs": [
    {
     "name": "stdout",
     "output_type": "stream",
     "text": [
      "(array([ 3., -1., -1.]), array([ 3., -1.,  2.]))\n"
     ]
    }
   ],
   "source": [
    "# M.shape[0] numero de fila\n",
    "# M.shape[1] numero de columna\n",
    "\n",
    "n = M.shape[1]\n",
    "x = np.zeros(n)\n",
    "\n",
    "print(M[0,:], M[:,0])"
   ]
  },
  {
   "cell_type": "code",
   "execution_count": 32,
   "metadata": {},
   "outputs": [],
   "source": [
    "def GetJacobiMethod(Matrix, bvector, itmax, error):\n",
    "    n = Matrix.shape[1]\n",
    "    x = np.zeros(n)\n",
    "    sumk = np.zeros(n)\n",
    "    \n",
    "    it = 0\n",
    "    \n",
    "    residuo = np.linalg.norm(bvector - np.dot(Matrix,x))\n",
    "    \n",
    "    while( residuo > error and it < itmax ):\n",
    "        \n",
    "        it += 1\n",
    "        \n",
    "        for i in range(len(Matrix[0,:])):\n",
    "            sum_ = 0\n",
    "            for j in range(len(Matrix[:,0])):\n",
    "                if( i !=j ):\n",
    "                    sum_ += Matrix[i][j]*x[j]\n",
    "                    \n",
    "            sumk[i] = sum_;\n",
    "        \n",
    "        for i in range(len(Matrix[0,:])):\n",
    "            \n",
    "            if(Matrix[i,i] != 0):\n",
    "                x[i] = (bvector[i]-sumk[i])/Matrix[i,i]\n",
    "            else:\n",
    "                print('No invertible con Jacobi')\n",
    "                return\n",
    "        \n",
    "        print(x)\n",
    "        residuo = np.linalg.norm(bvector - np.dot(Matrix,x))\n",
    "        \n",
    "    return x, it, error"
   ]
  },
  {
   "cell_type": "code",
   "execution_count": 33,
   "metadata": {},
   "outputs": [
    {
     "name": "stdout",
     "output_type": "stream",
     "text": [
      "[0.33333333 1.         1.75      ]\n",
      "[1.25       0.52777778 1.33333333]\n",
      "[0.9537037  0.97222222 0.99305556]\n",
      "[0.98842593 0.98688272 1.03009259]\n",
      "[1.00565844 0.98611111 1.00906636]\n",
      "[0.99839249 0.99886403 1.000643  ]\n",
      "[0.99983568 0.99924983 1.00108775]\n",
      "[1.00011253 0.99958264 1.0002697 ]\n",
      "[0.99995078 0.99994761 1.00004808]\n",
      "[0.99999856 0.99996757 1.00003771]\n",
      "[1.00000176 0.99998695 1.00000883]\n",
      "[0.99999859 0.99999764 1.00000238]\n",
      "[1.00000001 0.99999874 1.00000129]\n",
      "[1.00000001 0.99999957 1.00000031]\n",
      "[0.99999996 0.9999999  1.0000001 ]\n",
      "[1.         0.99999995 1.00000004]\n",
      "[1.         0.99999999 1.00000001]\n",
      "[1. 1. 1.]\n",
      "[1. 1. 1.]\n",
      "[1. 1. 1.]\n",
      "[1. 1. 1.]\n",
      "[1. 1. 1.]\n",
      "[1. 1. 1.]\n"
     ]
    }
   ],
   "source": [
    "Xsol, it, error = GetJacobiMethod(M,b,30, 1e-10)"
   ]
  },
  {
   "cell_type": "code",
   "execution_count": 34,
   "metadata": {},
   "outputs": [
    {
     "name": "stdout",
     "output_type": "stream",
     "text": [
      "[1. 1. 1.]\n",
      "(23, 1e-10)\n"
     ]
    }
   ],
   "source": [
    "print(Xsol)\n",
    "print(it,error)"
   ]
  },
  {
   "cell_type": "markdown",
   "metadata": {},
   "source": [
    "# Get T matrix\n",
    "\n",
    "$$ T = D^{-1}R $$"
   ]
  },
  {
   "cell_type": "code",
   "execution_count": 35,
   "metadata": {},
   "outputs": [],
   "source": [
    "def GetTMatrix(Matrix):\n",
    "    \n",
    "    D = np.zeros((Matrix.shape[0],Matrix.shape[1]))\n",
    "    R = np.zeros((Matrix.shape[0],Matrix.shape[1])) \n",
    "    T = np.zeros((Matrix.shape[0],Matrix.shape[1]))\n",
    "    \n",
    "    for i in range(len(Matrix[0,:])):\n",
    "        for j in range(len(Matrix[:,0])):\n",
    "            if(i == j):\n",
    "                D[i,j] = 1./Matrix[i,j]\n",
    "            else:\n",
    "                R[i,j] = Matrix[i,j]\n",
    "                \n",
    "    T = np.dot(D,R)\n",
    "    return T"
   ]
  },
  {
   "cell_type": "code",
   "execution_count": 37,
   "metadata": {},
   "outputs": [
    {
     "name": "stdout",
     "output_type": "stream",
     "text": [
      "[[ 0.         -0.33333333 -0.33333333]\n",
      " [-0.33333333  0.          0.33333333]\n",
      " [ 0.5         0.25        0.        ]]\n"
     ]
    }
   ],
   "source": [
    "T = GetTMatrix(M)\n",
    "print(T)"
   ]
  },
  {
   "cell_type": "markdown",
   "metadata": {},
   "source": [
    "# Teorema\n",
    "\n",
    "Si A es una matriz estrictamente diagonal dominante, entonces la iteración del método de Jacobi converge para cualquier valor inicial.\n",
    "\n",
    "# Teorema\n",
    "\n",
    "La sucesión $x^{k+1} = Tx^{k} + c$, para $k \\ge 0$ converge a la sucesión única $x = Tx + c$ si y sólo si $\\rho(T) < 1$\n",
    "\n",
    "Definición de radio espectral: \n",
    "\n",
    "Si $\\lambda_{1},...,\\lambda_{n}$ son los valores propios de una matriz $A$, entonces su radio espectral $\\rho(A)$ se define como:\n",
    "\n",
    "$$ \\rho(A) := \\underbrace{max}_{i}(|\\lambda_{i}|) $$"
   ]
  },
  {
   "cell_type": "code",
   "execution_count": 40,
   "metadata": {},
   "outputs": [
    {
     "name": "stdout",
     "output_type": "stream",
     "text": [
      "[-0.33333333+0.j          0.16666667+0.23570226j  0.16666667-0.23570226j]\n"
     ]
    }
   ],
   "source": [
    "# Calcular los eigen vectors\n",
    "\n",
    "valores, vectores = np.linalg.eig(T)\n",
    "print(valores)"
   ]
  },
  {
   "cell_type": "code",
   "execution_count": 41,
   "metadata": {},
   "outputs": [
    {
     "name": "stdout",
     "output_type": "stream",
     "text": [
      "0.33333333333333315\n"
     ]
    }
   ],
   "source": [
    "print(np.amax(abs(valores)))"
   ]
  },
  {
   "cell_type": "markdown",
   "metadata": {},
   "source": [
    "# Método de Gauss-Seidel"
   ]
  },
  {
   "cell_type": "code",
   "execution_count": 42,
   "metadata": {},
   "outputs": [],
   "source": [
    "M = np.array([[3,-1,-1],[-1.,3.,1.],[2,1,4]])\n",
    "b = np.array([1.,3.,7.])\n",
    "n = M.shape[1]\n",
    "x = np.zeros(n)"
   ]
  },
  {
   "cell_type": "code",
   "execution_count": 43,
   "metadata": {},
   "outputs": [],
   "source": [
    "def GetGaussSeidelMethod(Matrix, bvector, itmax, error):\n",
    "    \n",
    "    n = Matrix.shape[1]\n",
    "    x = np.zeros(n)\n",
    "    \n",
    "    r = np.linalg.norm(bvector - np.dot(Matrix, x)) \n",
    "    it = 0\n",
    "    \n",
    "    while r > error and it < itmax:\n",
    "        it += 1\n",
    "        \n",
    "        for i in range(len(Matrix[0,:])):\n",
    "            \n",
    "            sum_ = 0\n",
    "            \n",
    "            for j in range(len(Matrix[:,0])):\n",
    "                \n",
    "                if( i != j ):\n",
    "                    sum_ += Matrix[i,j]*x[j]\n",
    "            \n",
    "            x[i] = (bvector[i]- sum_)/Matrix[i,i]\n",
    "            \n",
    "        print(x)\n",
    "        r = np.linalg.norm(bvector - np.dot(Matrix, x))\n",
    "        \n",
    "    return x, r, it"
   ]
  },
  {
   "cell_type": "code",
   "execution_count": 44,
   "metadata": {},
   "outputs": [
    {
     "name": "stdout",
     "output_type": "stream",
     "text": [
      "[0.33333333 1.11111111 1.30555556]\n",
      "[1.13888889 0.94444444 0.94444444]\n",
      "[0.96296296 1.00617284 1.01697531]\n",
      "[1.00771605 0.99691358 0.99691358]\n",
      "[0.99794239 1.00034294 1.00094307]\n",
      "[1.00042867 0.99982853 0.99982853]\n",
      "[0.99988569 1.00001905 1.00005239]\n",
      "[1.00002381 0.99999047 0.99999047]\n",
      "[0.99999365 1.00000106 1.00000291]\n",
      "[1.00000132 0.99999947 0.99999947]\n",
      "[0.99999965 1.00000006 1.00000016]\n",
      "[1.00000007 0.99999997 0.99999997]\n",
      "[0.99999998 1.         1.00000001]\n",
      "[1. 1. 1.]\n",
      "[1. 1. 1.]\n",
      "[1. 1. 1.]\n",
      "[1. 1. 1.]\n",
      "[1. 1. 1.]\n"
     ]
    }
   ],
   "source": [
    "Xsol, error, it = GetGaussSeidelMethod(M,b,30,1e-10)"
   ]
  },
  {
   "cell_type": "code",
   "execution_count": 45,
   "metadata": {},
   "outputs": [
    {
     "name": "stdout",
     "output_type": "stream",
     "text": [
      "[1. 1. 1.]\n",
      "(18, 5.8030712832710874e-11)\n"
     ]
    }
   ],
   "source": [
    "print(Xsol)\n",
    "print(it,error)"
   ]
  },
  {
   "cell_type": "markdown",
   "metadata": {},
   "source": [
    "# Usando Numpy"
   ]
  },
  {
   "cell_type": "code",
   "execution_count": 46,
   "metadata": {},
   "outputs": [],
   "source": [
    "Sol = np.linalg.solve(M,b)"
   ]
  },
  {
   "cell_type": "code",
   "execution_count": 47,
   "metadata": {},
   "outputs": [
    {
     "name": "stdout",
     "output_type": "stream",
     "text": [
      "[1. 1. 1.]\n"
     ]
    }
   ],
   "source": [
    "print(Sol)"
   ]
  },
  {
   "cell_type": "code",
   "execution_count": 48,
   "metadata": {},
   "outputs": [],
   "source": [
    "x, y = np.linspace(0.,2.,20), np.linspace(0.,2.,20)\n",
    "X,Y = np.meshgrid(x,y)"
   ]
  },
  {
   "cell_type": "code",
   "execution_count": 49,
   "metadata": {},
   "outputs": [],
   "source": [
    "Z1 = (b[0] - M[0,0]*X - M[0,1]*Y)/M[0,2]\n",
    "Z2 = (b[1] - M[1,0]*X - M[1,1]*Y)/M[1,2]\n",
    "Z3 = (b[2] - M[2,0]*X - M[2,1]*Y)/M[2,2]"
   ]
  },
  {
   "cell_type": "code",
   "execution_count": 60,
   "metadata": {},
   "outputs": [
    {
     "data": {
      "application/javascript": [
       "/* Put everything inside the global mpl namespace */\n",
       "window.mpl = {};\n",
       "\n",
       "\n",
       "mpl.get_websocket_type = function() {\n",
       "    if (typeof(WebSocket) !== 'undefined') {\n",
       "        return WebSocket;\n",
       "    } else if (typeof(MozWebSocket) !== 'undefined') {\n",
       "        return MozWebSocket;\n",
       "    } else {\n",
       "        alert('Your browser does not have WebSocket support.' +\n",
       "              'Please try Chrome, Safari or Firefox ≥ 6. ' +\n",
       "              'Firefox 4 and 5 are also supported but you ' +\n",
       "              'have to enable WebSockets in about:config.');\n",
       "    };\n",
       "}\n",
       "\n",
       "mpl.figure = function(figure_id, websocket, ondownload, parent_element) {\n",
       "    this.id = figure_id;\n",
       "\n",
       "    this.ws = websocket;\n",
       "\n",
       "    this.supports_binary = (this.ws.binaryType != undefined);\n",
       "\n",
       "    if (!this.supports_binary) {\n",
       "        var warnings = document.getElementById(\"mpl-warnings\");\n",
       "        if (warnings) {\n",
       "            warnings.style.display = 'block';\n",
       "            warnings.textContent = (\n",
       "                \"This browser does not support binary websocket messages. \" +\n",
       "                    \"Performance may be slow.\");\n",
       "        }\n",
       "    }\n",
       "\n",
       "    this.imageObj = new Image();\n",
       "\n",
       "    this.context = undefined;\n",
       "    this.message = undefined;\n",
       "    this.canvas = undefined;\n",
       "    this.rubberband_canvas = undefined;\n",
       "    this.rubberband_context = undefined;\n",
       "    this.format_dropdown = undefined;\n",
       "\n",
       "    this.image_mode = 'full';\n",
       "\n",
       "    this.root = $('<div/>');\n",
       "    this._root_extra_style(this.root)\n",
       "    this.root.attr('style', 'display: inline-block');\n",
       "\n",
       "    $(parent_element).append(this.root);\n",
       "\n",
       "    this._init_header(this);\n",
       "    this._init_canvas(this);\n",
       "    this._init_toolbar(this);\n",
       "\n",
       "    var fig = this;\n",
       "\n",
       "    this.waiting = false;\n",
       "\n",
       "    this.ws.onopen =  function () {\n",
       "            fig.send_message(\"supports_binary\", {value: fig.supports_binary});\n",
       "            fig.send_message(\"send_image_mode\", {});\n",
       "            if (mpl.ratio != 1) {\n",
       "                fig.send_message(\"set_dpi_ratio\", {'dpi_ratio': mpl.ratio});\n",
       "            }\n",
       "            fig.send_message(\"refresh\", {});\n",
       "        }\n",
       "\n",
       "    this.imageObj.onload = function() {\n",
       "            if (fig.image_mode == 'full') {\n",
       "                // Full images could contain transparency (where diff images\n",
       "                // almost always do), so we need to clear the canvas so that\n",
       "                // there is no ghosting.\n",
       "                fig.context.clearRect(0, 0, fig.canvas.width, fig.canvas.height);\n",
       "            }\n",
       "            fig.context.drawImage(fig.imageObj, 0, 0);\n",
       "        };\n",
       "\n",
       "    this.imageObj.onunload = function() {\n",
       "        fig.ws.close();\n",
       "    }\n",
       "\n",
       "    this.ws.onmessage = this._make_on_message_function(this);\n",
       "\n",
       "    this.ondownload = ondownload;\n",
       "}\n",
       "\n",
       "mpl.figure.prototype._init_header = function() {\n",
       "    var titlebar = $(\n",
       "        '<div class=\"ui-dialog-titlebar ui-widget-header ui-corner-all ' +\n",
       "        'ui-helper-clearfix\"/>');\n",
       "    var titletext = $(\n",
       "        '<div class=\"ui-dialog-title\" style=\"width: 100%; ' +\n",
       "        'text-align: center; padding: 3px;\"/>');\n",
       "    titlebar.append(titletext)\n",
       "    this.root.append(titlebar);\n",
       "    this.header = titletext[0];\n",
       "}\n",
       "\n",
       "\n",
       "\n",
       "mpl.figure.prototype._canvas_extra_style = function(canvas_div) {\n",
       "\n",
       "}\n",
       "\n",
       "\n",
       "mpl.figure.prototype._root_extra_style = function(canvas_div) {\n",
       "\n",
       "}\n",
       "\n",
       "mpl.figure.prototype._init_canvas = function() {\n",
       "    var fig = this;\n",
       "\n",
       "    var canvas_div = $('<div/>');\n",
       "\n",
       "    canvas_div.attr('style', 'position: relative; clear: both; outline: 0');\n",
       "\n",
       "    function canvas_keyboard_event(event) {\n",
       "        return fig.key_event(event, event['data']);\n",
       "    }\n",
       "\n",
       "    canvas_div.keydown('key_press', canvas_keyboard_event);\n",
       "    canvas_div.keyup('key_release', canvas_keyboard_event);\n",
       "    this.canvas_div = canvas_div\n",
       "    this._canvas_extra_style(canvas_div)\n",
       "    this.root.append(canvas_div);\n",
       "\n",
       "    var canvas = $('<canvas/>');\n",
       "    canvas.addClass('mpl-canvas');\n",
       "    canvas.attr('style', \"left: 0; top: 0; z-index: 0; outline: 0\")\n",
       "\n",
       "    this.canvas = canvas[0];\n",
       "    this.context = canvas[0].getContext(\"2d\");\n",
       "\n",
       "    var backingStore = this.context.backingStorePixelRatio ||\n",
       "\tthis.context.webkitBackingStorePixelRatio ||\n",
       "\tthis.context.mozBackingStorePixelRatio ||\n",
       "\tthis.context.msBackingStorePixelRatio ||\n",
       "\tthis.context.oBackingStorePixelRatio ||\n",
       "\tthis.context.backingStorePixelRatio || 1;\n",
       "\n",
       "    mpl.ratio = (window.devicePixelRatio || 1) / backingStore;\n",
       "\n",
       "    var rubberband = $('<canvas/>');\n",
       "    rubberband.attr('style', \"position: absolute; left: 0; top: 0; z-index: 1;\")\n",
       "\n",
       "    var pass_mouse_events = true;\n",
       "\n",
       "    canvas_div.resizable({\n",
       "        start: function(event, ui) {\n",
       "            pass_mouse_events = false;\n",
       "        },\n",
       "        resize: function(event, ui) {\n",
       "            fig.request_resize(ui.size.width, ui.size.height);\n",
       "        },\n",
       "        stop: function(event, ui) {\n",
       "            pass_mouse_events = true;\n",
       "            fig.request_resize(ui.size.width, ui.size.height);\n",
       "        },\n",
       "    });\n",
       "\n",
       "    function mouse_event_fn(event) {\n",
       "        if (pass_mouse_events)\n",
       "            return fig.mouse_event(event, event['data']);\n",
       "    }\n",
       "\n",
       "    rubberband.mousedown('button_press', mouse_event_fn);\n",
       "    rubberband.mouseup('button_release', mouse_event_fn);\n",
       "    // Throttle sequential mouse events to 1 every 20ms.\n",
       "    rubberband.mousemove('motion_notify', mouse_event_fn);\n",
       "\n",
       "    rubberband.mouseenter('figure_enter', mouse_event_fn);\n",
       "    rubberband.mouseleave('figure_leave', mouse_event_fn);\n",
       "\n",
       "    canvas_div.on(\"wheel\", function (event) {\n",
       "        event = event.originalEvent;\n",
       "        event['data'] = 'scroll'\n",
       "        if (event.deltaY < 0) {\n",
       "            event.step = 1;\n",
       "        } else {\n",
       "            event.step = -1;\n",
       "        }\n",
       "        mouse_event_fn(event);\n",
       "    });\n",
       "\n",
       "    canvas_div.append(canvas);\n",
       "    canvas_div.append(rubberband);\n",
       "\n",
       "    this.rubberband = rubberband;\n",
       "    this.rubberband_canvas = rubberband[0];\n",
       "    this.rubberband_context = rubberband[0].getContext(\"2d\");\n",
       "    this.rubberband_context.strokeStyle = \"#000000\";\n",
       "\n",
       "    this._resize_canvas = function(width, height) {\n",
       "        // Keep the size of the canvas, canvas container, and rubber band\n",
       "        // canvas in synch.\n",
       "        canvas_div.css('width', width)\n",
       "        canvas_div.css('height', height)\n",
       "\n",
       "        canvas.attr('width', width * mpl.ratio);\n",
       "        canvas.attr('height', height * mpl.ratio);\n",
       "        canvas.attr('style', 'width: ' + width + 'px; height: ' + height + 'px;');\n",
       "\n",
       "        rubberband.attr('width', width);\n",
       "        rubberband.attr('height', height);\n",
       "    }\n",
       "\n",
       "    // Set the figure to an initial 600x600px, this will subsequently be updated\n",
       "    // upon first draw.\n",
       "    this._resize_canvas(600, 600);\n",
       "\n",
       "    // Disable right mouse context menu.\n",
       "    $(this.rubberband_canvas).bind(\"contextmenu\",function(e){\n",
       "        return false;\n",
       "    });\n",
       "\n",
       "    function set_focus () {\n",
       "        canvas.focus();\n",
       "        canvas_div.focus();\n",
       "    }\n",
       "\n",
       "    window.setTimeout(set_focus, 100);\n",
       "}\n",
       "\n",
       "mpl.figure.prototype._init_toolbar = function() {\n",
       "    var fig = this;\n",
       "\n",
       "    var nav_element = $('<div/>')\n",
       "    nav_element.attr('style', 'width: 100%');\n",
       "    this.root.append(nav_element);\n",
       "\n",
       "    // Define a callback function for later on.\n",
       "    function toolbar_event(event) {\n",
       "        return fig.toolbar_button_onclick(event['data']);\n",
       "    }\n",
       "    function toolbar_mouse_event(event) {\n",
       "        return fig.toolbar_button_onmouseover(event['data']);\n",
       "    }\n",
       "\n",
       "    for(var toolbar_ind in mpl.toolbar_items) {\n",
       "        var name = mpl.toolbar_items[toolbar_ind][0];\n",
       "        var tooltip = mpl.toolbar_items[toolbar_ind][1];\n",
       "        var image = mpl.toolbar_items[toolbar_ind][2];\n",
       "        var method_name = mpl.toolbar_items[toolbar_ind][3];\n",
       "\n",
       "        if (!name) {\n",
       "            // put a spacer in here.\n",
       "            continue;\n",
       "        }\n",
       "        var button = $('<button/>');\n",
       "        button.addClass('ui-button ui-widget ui-state-default ui-corner-all ' +\n",
       "                        'ui-button-icon-only');\n",
       "        button.attr('role', 'button');\n",
       "        button.attr('aria-disabled', 'false');\n",
       "        button.click(method_name, toolbar_event);\n",
       "        button.mouseover(tooltip, toolbar_mouse_event);\n",
       "\n",
       "        var icon_img = $('<span/>');\n",
       "        icon_img.addClass('ui-button-icon-primary ui-icon');\n",
       "        icon_img.addClass(image);\n",
       "        icon_img.addClass('ui-corner-all');\n",
       "\n",
       "        var tooltip_span = $('<span/>');\n",
       "        tooltip_span.addClass('ui-button-text');\n",
       "        tooltip_span.html(tooltip);\n",
       "\n",
       "        button.append(icon_img);\n",
       "        button.append(tooltip_span);\n",
       "\n",
       "        nav_element.append(button);\n",
       "    }\n",
       "\n",
       "    var fmt_picker_span = $('<span/>');\n",
       "\n",
       "    var fmt_picker = $('<select/>');\n",
       "    fmt_picker.addClass('mpl-toolbar-option ui-widget ui-widget-content');\n",
       "    fmt_picker_span.append(fmt_picker);\n",
       "    nav_element.append(fmt_picker_span);\n",
       "    this.format_dropdown = fmt_picker[0];\n",
       "\n",
       "    for (var ind in mpl.extensions) {\n",
       "        var fmt = mpl.extensions[ind];\n",
       "        var option = $(\n",
       "            '<option/>', {selected: fmt === mpl.default_extension}).html(fmt);\n",
       "        fmt_picker.append(option)\n",
       "    }\n",
       "\n",
       "    // Add hover states to the ui-buttons\n",
       "    $( \".ui-button\" ).hover(\n",
       "        function() { $(this).addClass(\"ui-state-hover\");},\n",
       "        function() { $(this).removeClass(\"ui-state-hover\");}\n",
       "    );\n",
       "\n",
       "    var status_bar = $('<span class=\"mpl-message\"/>');\n",
       "    nav_element.append(status_bar);\n",
       "    this.message = status_bar[0];\n",
       "}\n",
       "\n",
       "mpl.figure.prototype.request_resize = function(x_pixels, y_pixels) {\n",
       "    // Request matplotlib to resize the figure. Matplotlib will then trigger a resize in the client,\n",
       "    // which will in turn request a refresh of the image.\n",
       "    this.send_message('resize', {'width': x_pixels, 'height': y_pixels});\n",
       "}\n",
       "\n",
       "mpl.figure.prototype.send_message = function(type, properties) {\n",
       "    properties['type'] = type;\n",
       "    properties['figure_id'] = this.id;\n",
       "    this.ws.send(JSON.stringify(properties));\n",
       "}\n",
       "\n",
       "mpl.figure.prototype.send_draw_message = function() {\n",
       "    if (!this.waiting) {\n",
       "        this.waiting = true;\n",
       "        this.ws.send(JSON.stringify({type: \"draw\", figure_id: this.id}));\n",
       "    }\n",
       "}\n",
       "\n",
       "\n",
       "mpl.figure.prototype.handle_save = function(fig, msg) {\n",
       "    var format_dropdown = fig.format_dropdown;\n",
       "    var format = format_dropdown.options[format_dropdown.selectedIndex].value;\n",
       "    fig.ondownload(fig, format);\n",
       "}\n",
       "\n",
       "\n",
       "mpl.figure.prototype.handle_resize = function(fig, msg) {\n",
       "    var size = msg['size'];\n",
       "    if (size[0] != fig.canvas.width || size[1] != fig.canvas.height) {\n",
       "        fig._resize_canvas(size[0], size[1]);\n",
       "        fig.send_message(\"refresh\", {});\n",
       "    };\n",
       "}\n",
       "\n",
       "mpl.figure.prototype.handle_rubberband = function(fig, msg) {\n",
       "    var x0 = msg['x0'] / mpl.ratio;\n",
       "    var y0 = (fig.canvas.height - msg['y0']) / mpl.ratio;\n",
       "    var x1 = msg['x1'] / mpl.ratio;\n",
       "    var y1 = (fig.canvas.height - msg['y1']) / mpl.ratio;\n",
       "    x0 = Math.floor(x0) + 0.5;\n",
       "    y0 = Math.floor(y0) + 0.5;\n",
       "    x1 = Math.floor(x1) + 0.5;\n",
       "    y1 = Math.floor(y1) + 0.5;\n",
       "    var min_x = Math.min(x0, x1);\n",
       "    var min_y = Math.min(y0, y1);\n",
       "    var width = Math.abs(x1 - x0);\n",
       "    var height = Math.abs(y1 - y0);\n",
       "\n",
       "    fig.rubberband_context.clearRect(\n",
       "        0, 0, fig.canvas.width, fig.canvas.height);\n",
       "\n",
       "    fig.rubberband_context.strokeRect(min_x, min_y, width, height);\n",
       "}\n",
       "\n",
       "mpl.figure.prototype.handle_figure_label = function(fig, msg) {\n",
       "    // Updates the figure title.\n",
       "    fig.header.textContent = msg['label'];\n",
       "}\n",
       "\n",
       "mpl.figure.prototype.handle_cursor = function(fig, msg) {\n",
       "    var cursor = msg['cursor'];\n",
       "    switch(cursor)\n",
       "    {\n",
       "    case 0:\n",
       "        cursor = 'pointer';\n",
       "        break;\n",
       "    case 1:\n",
       "        cursor = 'default';\n",
       "        break;\n",
       "    case 2:\n",
       "        cursor = 'crosshair';\n",
       "        break;\n",
       "    case 3:\n",
       "        cursor = 'move';\n",
       "        break;\n",
       "    }\n",
       "    fig.rubberband_canvas.style.cursor = cursor;\n",
       "}\n",
       "\n",
       "mpl.figure.prototype.handle_message = function(fig, msg) {\n",
       "    fig.message.textContent = msg['message'];\n",
       "}\n",
       "\n",
       "mpl.figure.prototype.handle_draw = function(fig, msg) {\n",
       "    // Request the server to send over a new figure.\n",
       "    fig.send_draw_message();\n",
       "}\n",
       "\n",
       "mpl.figure.prototype.handle_image_mode = function(fig, msg) {\n",
       "    fig.image_mode = msg['mode'];\n",
       "}\n",
       "\n",
       "mpl.figure.prototype.updated_canvas_event = function() {\n",
       "    // Called whenever the canvas gets updated.\n",
       "    this.send_message(\"ack\", {});\n",
       "}\n",
       "\n",
       "// A function to construct a web socket function for onmessage handling.\n",
       "// Called in the figure constructor.\n",
       "mpl.figure.prototype._make_on_message_function = function(fig) {\n",
       "    return function socket_on_message(evt) {\n",
       "        if (evt.data instanceof Blob) {\n",
       "            /* FIXME: We get \"Resource interpreted as Image but\n",
       "             * transferred with MIME type text/plain:\" errors on\n",
       "             * Chrome.  But how to set the MIME type?  It doesn't seem\n",
       "             * to be part of the websocket stream */\n",
       "            evt.data.type = \"image/png\";\n",
       "\n",
       "            /* Free the memory for the previous frames */\n",
       "            if (fig.imageObj.src) {\n",
       "                (window.URL || window.webkitURL).revokeObjectURL(\n",
       "                    fig.imageObj.src);\n",
       "            }\n",
       "\n",
       "            fig.imageObj.src = (window.URL || window.webkitURL).createObjectURL(\n",
       "                evt.data);\n",
       "            fig.updated_canvas_event();\n",
       "            fig.waiting = false;\n",
       "            return;\n",
       "        }\n",
       "        else if (typeof evt.data === 'string' && evt.data.slice(0, 21) == \"data:image/png;base64\") {\n",
       "            fig.imageObj.src = evt.data;\n",
       "            fig.updated_canvas_event();\n",
       "            fig.waiting = false;\n",
       "            return;\n",
       "        }\n",
       "\n",
       "        var msg = JSON.parse(evt.data);\n",
       "        var msg_type = msg['type'];\n",
       "\n",
       "        // Call the  \"handle_{type}\" callback, which takes\n",
       "        // the figure and JSON message as its only arguments.\n",
       "        try {\n",
       "            var callback = fig[\"handle_\" + msg_type];\n",
       "        } catch (e) {\n",
       "            console.log(\"No handler for the '\" + msg_type + \"' message type: \", msg);\n",
       "            return;\n",
       "        }\n",
       "\n",
       "        if (callback) {\n",
       "            try {\n",
       "                // console.log(\"Handling '\" + msg_type + \"' message: \", msg);\n",
       "                callback(fig, msg);\n",
       "            } catch (e) {\n",
       "                console.log(\"Exception inside the 'handler_\" + msg_type + \"' callback:\", e, e.stack, msg);\n",
       "            }\n",
       "        }\n",
       "    };\n",
       "}\n",
       "\n",
       "// from http://stackoverflow.com/questions/1114465/getting-mouse-location-in-canvas\n",
       "mpl.findpos = function(e) {\n",
       "    //this section is from http://www.quirksmode.org/js/events_properties.html\n",
       "    var targ;\n",
       "    if (!e)\n",
       "        e = window.event;\n",
       "    if (e.target)\n",
       "        targ = e.target;\n",
       "    else if (e.srcElement)\n",
       "        targ = e.srcElement;\n",
       "    if (targ.nodeType == 3) // defeat Safari bug\n",
       "        targ = targ.parentNode;\n",
       "\n",
       "    // jQuery normalizes the pageX and pageY\n",
       "    // pageX,Y are the mouse positions relative to the document\n",
       "    // offset() returns the position of the element relative to the document\n",
       "    var x = e.pageX - $(targ).offset().left;\n",
       "    var y = e.pageY - $(targ).offset().top;\n",
       "\n",
       "    return {\"x\": x, \"y\": y};\n",
       "};\n",
       "\n",
       "/*\n",
       " * return a copy of an object with only non-object keys\n",
       " * we need this to avoid circular references\n",
       " * http://stackoverflow.com/a/24161582/3208463\n",
       " */\n",
       "function simpleKeys (original) {\n",
       "  return Object.keys(original).reduce(function (obj, key) {\n",
       "    if (typeof original[key] !== 'object')\n",
       "        obj[key] = original[key]\n",
       "    return obj;\n",
       "  }, {});\n",
       "}\n",
       "\n",
       "mpl.figure.prototype.mouse_event = function(event, name) {\n",
       "    var canvas_pos = mpl.findpos(event)\n",
       "\n",
       "    if (name === 'button_press')\n",
       "    {\n",
       "        this.canvas.focus();\n",
       "        this.canvas_div.focus();\n",
       "    }\n",
       "\n",
       "    var x = canvas_pos.x * mpl.ratio;\n",
       "    var y = canvas_pos.y * mpl.ratio;\n",
       "\n",
       "    this.send_message(name, {x: x, y: y, button: event.button,\n",
       "                             step: event.step,\n",
       "                             guiEvent: simpleKeys(event)});\n",
       "\n",
       "    /* This prevents the web browser from automatically changing to\n",
       "     * the text insertion cursor when the button is pressed.  We want\n",
       "     * to control all of the cursor setting manually through the\n",
       "     * 'cursor' event from matplotlib */\n",
       "    event.preventDefault();\n",
       "    return false;\n",
       "}\n",
       "\n",
       "mpl.figure.prototype._key_event_extra = function(event, name) {\n",
       "    // Handle any extra behaviour associated with a key event\n",
       "}\n",
       "\n",
       "mpl.figure.prototype.key_event = function(event, name) {\n",
       "\n",
       "    // Prevent repeat events\n",
       "    if (name == 'key_press')\n",
       "    {\n",
       "        if (event.which === this._key)\n",
       "            return;\n",
       "        else\n",
       "            this._key = event.which;\n",
       "    }\n",
       "    if (name == 'key_release')\n",
       "        this._key = null;\n",
       "\n",
       "    var value = '';\n",
       "    if (event.ctrlKey && event.which != 17)\n",
       "        value += \"ctrl+\";\n",
       "    if (event.altKey && event.which != 18)\n",
       "        value += \"alt+\";\n",
       "    if (event.shiftKey && event.which != 16)\n",
       "        value += \"shift+\";\n",
       "\n",
       "    value += 'k';\n",
       "    value += event.which.toString();\n",
       "\n",
       "    this._key_event_extra(event, name);\n",
       "\n",
       "    this.send_message(name, {key: value,\n",
       "                             guiEvent: simpleKeys(event)});\n",
       "    return false;\n",
       "}\n",
       "\n",
       "mpl.figure.prototype.toolbar_button_onclick = function(name) {\n",
       "    if (name == 'download') {\n",
       "        this.handle_save(this, null);\n",
       "    } else {\n",
       "        this.send_message(\"toolbar_button\", {name: name});\n",
       "    }\n",
       "};\n",
       "\n",
       "mpl.figure.prototype.toolbar_button_onmouseover = function(tooltip) {\n",
       "    this.message.textContent = tooltip;\n",
       "};\n",
       "mpl.toolbar_items = [[\"Home\", \"Reset original view\", \"fa fa-home icon-home\", \"home\"], [\"Back\", \"Back to  previous view\", \"fa fa-arrow-left icon-arrow-left\", \"back\"], [\"Forward\", \"Forward to next view\", \"fa fa-arrow-right icon-arrow-right\", \"forward\"], [\"\", \"\", \"\", \"\"], [\"Pan\", \"Pan axes with left mouse, zoom with right\", \"fa fa-arrows icon-move\", \"pan\"], [\"Zoom\", \"Zoom to rectangle\", \"fa fa-square-o icon-check-empty\", \"zoom\"], [\"\", \"\", \"\", \"\"], [\"Download\", \"Download plot\", \"fa fa-floppy-o icon-save\", \"download\"]];\n",
       "\n",
       "mpl.extensions = [\"eps\", \"jpeg\", \"pdf\", \"png\", \"ps\", \"raw\", \"svg\", \"tif\"];\n",
       "\n",
       "mpl.default_extension = \"png\";var comm_websocket_adapter = function(comm) {\n",
       "    // Create a \"websocket\"-like object which calls the given IPython comm\n",
       "    // object with the appropriate methods. Currently this is a non binary\n",
       "    // socket, so there is still some room for performance tuning.\n",
       "    var ws = {};\n",
       "\n",
       "    ws.close = function() {\n",
       "        comm.close()\n",
       "    };\n",
       "    ws.send = function(m) {\n",
       "        //console.log('sending', m);\n",
       "        comm.send(m);\n",
       "    };\n",
       "    // Register the callback with on_msg.\n",
       "    comm.on_msg(function(msg) {\n",
       "        //console.log('receiving', msg['content']['data'], msg);\n",
       "        // Pass the mpl event to the overridden (by mpl) onmessage function.\n",
       "        ws.onmessage(msg['content']['data'])\n",
       "    });\n",
       "    return ws;\n",
       "}\n",
       "\n",
       "mpl.mpl_figure_comm = function(comm, msg) {\n",
       "    // This is the function which gets called when the mpl process\n",
       "    // starts-up an IPython Comm through the \"matplotlib\" channel.\n",
       "\n",
       "    var id = msg.content.data.id;\n",
       "    // Get hold of the div created by the display call when the Comm\n",
       "    // socket was opened in Python.\n",
       "    var element = $(\"#\" + id);\n",
       "    var ws_proxy = comm_websocket_adapter(comm)\n",
       "\n",
       "    function ondownload(figure, format) {\n",
       "        window.open(figure.imageObj.src);\n",
       "    }\n",
       "\n",
       "    var fig = new mpl.figure(id, ws_proxy,\n",
       "                           ondownload,\n",
       "                           element.get(0));\n",
       "\n",
       "    // Call onopen now - mpl needs it, as it is assuming we've passed it a real\n",
       "    // web socket which is closed, not our websocket->open comm proxy.\n",
       "    ws_proxy.onopen();\n",
       "\n",
       "    fig.parent_element = element.get(0);\n",
       "    fig.cell_info = mpl.find_output_cell(\"<div id='\" + id + \"'></div>\");\n",
       "    if (!fig.cell_info) {\n",
       "        console.error(\"Failed to find cell for figure\", id, fig);\n",
       "        return;\n",
       "    }\n",
       "\n",
       "    var output_index = fig.cell_info[2]\n",
       "    var cell = fig.cell_info[0];\n",
       "\n",
       "};\n",
       "\n",
       "mpl.figure.prototype.handle_close = function(fig, msg) {\n",
       "    var width = fig.canvas.width/mpl.ratio\n",
       "    fig.root.unbind('remove')\n",
       "\n",
       "    // Update the output cell to use the data from the current canvas.\n",
       "    fig.push_to_output();\n",
       "    var dataURL = fig.canvas.toDataURL();\n",
       "    // Re-enable the keyboard manager in IPython - without this line, in FF,\n",
       "    // the notebook keyboard shortcuts fail.\n",
       "    IPython.keyboard_manager.enable()\n",
       "    $(fig.parent_element).html('<img src=\"' + dataURL + '\" width=\"' + width + '\">');\n",
       "    fig.close_ws(fig, msg);\n",
       "}\n",
       "\n",
       "mpl.figure.prototype.close_ws = function(fig, msg){\n",
       "    fig.send_message('closing', msg);\n",
       "    // fig.ws.close()\n",
       "}\n",
       "\n",
       "mpl.figure.prototype.push_to_output = function(remove_interactive) {\n",
       "    // Turn the data on the canvas into data in the output cell.\n",
       "    var width = this.canvas.width/mpl.ratio\n",
       "    var dataURL = this.canvas.toDataURL();\n",
       "    this.cell_info[1]['text/html'] = '<img src=\"' + dataURL + '\" width=\"' + width + '\">';\n",
       "}\n",
       "\n",
       "mpl.figure.prototype.updated_canvas_event = function() {\n",
       "    // Tell IPython that the notebook contents must change.\n",
       "    IPython.notebook.set_dirty(true);\n",
       "    this.send_message(\"ack\", {});\n",
       "    var fig = this;\n",
       "    // Wait a second, then push the new image to the DOM so\n",
       "    // that it is saved nicely (might be nice to debounce this).\n",
       "    setTimeout(function () { fig.push_to_output() }, 1000);\n",
       "}\n",
       "\n",
       "mpl.figure.prototype._init_toolbar = function() {\n",
       "    var fig = this;\n",
       "\n",
       "    var nav_element = $('<div/>')\n",
       "    nav_element.attr('style', 'width: 100%');\n",
       "    this.root.append(nav_element);\n",
       "\n",
       "    // Define a callback function for later on.\n",
       "    function toolbar_event(event) {\n",
       "        return fig.toolbar_button_onclick(event['data']);\n",
       "    }\n",
       "    function toolbar_mouse_event(event) {\n",
       "        return fig.toolbar_button_onmouseover(event['data']);\n",
       "    }\n",
       "\n",
       "    for(var toolbar_ind in mpl.toolbar_items){\n",
       "        var name = mpl.toolbar_items[toolbar_ind][0];\n",
       "        var tooltip = mpl.toolbar_items[toolbar_ind][1];\n",
       "        var image = mpl.toolbar_items[toolbar_ind][2];\n",
       "        var method_name = mpl.toolbar_items[toolbar_ind][3];\n",
       "\n",
       "        if (!name) { continue; };\n",
       "\n",
       "        var button = $('<button class=\"btn btn-default\" href=\"#\" title=\"' + name + '\"><i class=\"fa ' + image + ' fa-lg\"></i></button>');\n",
       "        button.click(method_name, toolbar_event);\n",
       "        button.mouseover(tooltip, toolbar_mouse_event);\n",
       "        nav_element.append(button);\n",
       "    }\n",
       "\n",
       "    // Add the status bar.\n",
       "    var status_bar = $('<span class=\"mpl-message\" style=\"text-align:right; float: right;\"/>');\n",
       "    nav_element.append(status_bar);\n",
       "    this.message = status_bar[0];\n",
       "\n",
       "    // Add the close button to the window.\n",
       "    var buttongrp = $('<div class=\"btn-group inline pull-right\"></div>');\n",
       "    var button = $('<button class=\"btn btn-mini btn-primary\" href=\"#\" title=\"Stop Interaction\"><i class=\"fa fa-power-off icon-remove icon-large\"></i></button>');\n",
       "    button.click(function (evt) { fig.handle_close(fig, {}); } );\n",
       "    button.mouseover('Stop Interaction', toolbar_mouse_event);\n",
       "    buttongrp.append(button);\n",
       "    var titlebar = this.root.find($('.ui-dialog-titlebar'));\n",
       "    titlebar.prepend(buttongrp);\n",
       "}\n",
       "\n",
       "mpl.figure.prototype._root_extra_style = function(el){\n",
       "    var fig = this\n",
       "    el.on(\"remove\", function(){\n",
       "\tfig.close_ws(fig, {});\n",
       "    });\n",
       "}\n",
       "\n",
       "mpl.figure.prototype._canvas_extra_style = function(el){\n",
       "    // this is important to make the div 'focusable\n",
       "    el.attr('tabindex', 0)\n",
       "    // reach out to IPython and tell the keyboard manager to turn it's self\n",
       "    // off when our div gets focus\n",
       "\n",
       "    // location in version 3\n",
       "    if (IPython.notebook.keyboard_manager) {\n",
       "        IPython.notebook.keyboard_manager.register_events(el);\n",
       "    }\n",
       "    else {\n",
       "        // location in version 2\n",
       "        IPython.keyboard_manager.register_events(el);\n",
       "    }\n",
       "\n",
       "}\n",
       "\n",
       "mpl.figure.prototype._key_event_extra = function(event, name) {\n",
       "    var manager = IPython.notebook.keyboard_manager;\n",
       "    if (!manager)\n",
       "        manager = IPython.keyboard_manager;\n",
       "\n",
       "    // Check for shift+enter\n",
       "    if (event.shiftKey && event.which == 13) {\n",
       "        this.canvas_div.blur();\n",
       "        event.shiftKey = false;\n",
       "        // Send a \"J\" for go to next cell\n",
       "        event.which = 74;\n",
       "        event.keyCode = 74;\n",
       "        manager.command_mode();\n",
       "        manager.handle_keydown(event);\n",
       "    }\n",
       "}\n",
       "\n",
       "mpl.figure.prototype.handle_save = function(fig, msg) {\n",
       "    fig.ondownload(fig, null);\n",
       "}\n",
       "\n",
       "\n",
       "mpl.find_output_cell = function(html_output) {\n",
       "    // Return the cell and output element which can be found *uniquely* in the notebook.\n",
       "    // Note - this is a bit hacky, but it is done because the \"notebook_saving.Notebook\"\n",
       "    // IPython event is triggered only after the cells have been serialised, which for\n",
       "    // our purposes (turning an active figure into a static one), is too late.\n",
       "    var cells = IPython.notebook.get_cells();\n",
       "    var ncells = cells.length;\n",
       "    for (var i=0; i<ncells; i++) {\n",
       "        var cell = cells[i];\n",
       "        if (cell.cell_type === 'code'){\n",
       "            for (var j=0; j<cell.output_area.outputs.length; j++) {\n",
       "                var data = cell.output_area.outputs[j];\n",
       "                if (data.data) {\n",
       "                    // IPython >= 3 moved mimebundle to data attribute of output\n",
       "                    data = data.data;\n",
       "                }\n",
       "                if (data['text/html'] == html_output) {\n",
       "                    return [cell, data, j];\n",
       "                }\n",
       "            }\n",
       "        }\n",
       "    }\n",
       "}\n",
       "\n",
       "// Register the function which deals with the matplotlib target/channel.\n",
       "// The kernel may be null if the page has been refreshed.\n",
       "if (IPython.notebook.kernel != null) {\n",
       "    IPython.notebook.kernel.comm_manager.register_target('matplotlib', mpl.mpl_figure_comm);\n",
       "}\n"
      ],
      "text/plain": [
       "<IPython.core.display.Javascript object>"
      ]
     },
     "metadata": {},
     "output_type": "display_data"
    },
    {
     "data": {
      "text/html": [
       "<img src=\"data:image/png;base64,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\" width=\"640\">"
      ],
      "text/plain": [
       "<IPython.core.display.HTML object>"
      ]
     },
     "metadata": {},
     "output_type": "display_data"
    }
   ],
   "source": [
    "fig = plt.figure()\n",
    "ax = fig.add_subplot(111, projection='3d')\n",
    "ax.plot_surface(X,Y,Z1, alpha = 0.5, cmap=cm.Accent)\n",
    "ax.plot_surface(X,Y,Z2, alpha = 0.5, cmap=cm.Paired)\n",
    "ax.plot_surface(X,Y,Z3, alpha = 0.5, cmap=cm.Pastel1)\n",
    "ax.plot( (Sol[0], ), (Sol[1], ), (Sol[2], ), lw=2, c='k', marker='o', markersize=8 )\n",
    "plt.show()"
   ]
  },
  {
   "cell_type": "code",
   "execution_count": null,
   "metadata": {},
   "outputs": [],
   "source": []
  }
 ],
 "metadata": {
  "kernelspec": {
   "display_name": "Python 3",
   "language": "python",
   "name": "python3"
  },
  "language_info": {
   "codemirror_mode": {
    "name": "ipython",
    "version": 2
   },
   "file_extension": ".py",
   "mimetype": "text/x-python",
   "name": "python",
   "nbconvert_exporter": "python",
   "pygments_lexer": "ipython2",
   "version": "2.7.16"
  }
 },
 "nbformat": 4,
 "nbformat_minor": 2
}
