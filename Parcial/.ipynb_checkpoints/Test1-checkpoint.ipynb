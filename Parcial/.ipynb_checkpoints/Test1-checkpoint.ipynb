{
 "cells": [
  {
   "cell_type": "code",
   "execution_count": 1,
   "metadata": {},
   "outputs": [],
   "source": [
    "import numpy as np\n",
    "import matplotlib.pyplot as plt\n",
    "from tqdm import tqdm"
   ]
  },
  {
   "cell_type": "code",
   "execution_count": 2,
   "metadata": {},
   "outputs": [
    {
     "name": "stdout",
     "output_type": "stream",
     "text": [
      "[ 2.03133159  5.88677754  2.19574476  6.82188675  0.87939524  2.9515774\n",
      "  4.4543329  -1.80439605 -5.84192597 -1.11349563]\n"
     ]
    }
   ],
   "source": [
    "Data = np.loadtxt('data/dataMLikelihood.dat')\n",
    "print(Data)"
   ]
  },
  {
   "cell_type": "code",
   "execution_count": 3,
   "metadata": {},
   "outputs": [],
   "source": [
    "# Defining the probability of sigma given X\n",
    "\n",
    "def Prob(X, sigma):\n",
    "    if(sigma >= 0):\n",
    "        p = np.exp(-0.5*(X/sigma)**2)*(1/np.sqrt(2.0*np.pi*sigma**2))\n",
    "    else:\n",
    "        p = 0.\n",
    "    return p"
   ]
  },
  {
   "cell_type": "code",
   "execution_count": 4,
   "metadata": {},
   "outputs": [],
   "source": [
    "# Defining the likelihood using bayes\n",
    "\n",
    "def Likelihood(X,sigma):\n",
    "    L = 1.0\n",
    "    for i in X:\n",
    "        L *= Prob(i,sigma)\n",
    "    return L"
   ]
  },
  {
   "cell_type": "code",
   "execution_count": 5,
   "metadata": {},
   "outputs": [],
   "source": [
    "# MH for sampling the likelihood function\n",
    "\n",
    "def MCMC(X, Npoints):\n",
    "    Sigma_Values = np.ones(Npoints)\n",
    "    Sigma_Values[0] = np.random.rand()*5.\n",
    "    \n",
    "    for i in tqdm(range(1,Npoints)):\n",
    "        \n",
    "        Sigma_old = Sigma_Values[i-1]\n",
    "        Sigma_new = Sigma_old + (np.random.rand()-0.5)*0.5\n",
    "        \n",
    "        alpha = Likelihood(X,Sigma_new)/Likelihood(X,Sigma_old)\n",
    "        \n",
    "        alpha = min(1.,alpha)\n",
    "        \n",
    "        beta = np.random.rand()\n",
    "        \n",
    "        if(alpha>beta):\n",
    "            Sigma_Values[i] = Sigma_new\n",
    "        else:\n",
    "            Sigma_Values[i] = Sigma_old\n",
    "            \n",
    "    return Sigma_Values"
   ]
  },
  {
   "cell_type": "code",
   "execution_count": 6,
   "metadata": {},
   "outputs": [
    {
     "name": "stderr",
     "output_type": "stream",
     "text": [
      "100%|██████████| 49999/49999 [00:07<00:00, 6688.83it/s]\n"
     ]
    }
   ],
   "source": [
    "Sigma_Values = MCMC(Data, 50000)"
   ]
  },
  {
   "cell_type": "code",
   "execution_count": 7,
   "metadata": {},
   "outputs": [
    {
     "name": "stdout",
     "output_type": "stream",
     "text": [
      "(4.300738261138909, 0.821183021781116, 1.2191961561975084)\n"
     ]
    }
   ],
   "source": [
    "mean = np.percentile(Sigma_Values, 50)\n",
    "sigma1 = np.percentile(Sigma_Values, 16.)\n",
    "sigma2 = np.percentile(Sigma_Values, 84.)\n",
    "\n",
    "print(mean, mean-sigma1, sigma2-mean)"
   ]
  },
  {
   "cell_type": "code",
   "execution_count": 8,
   "metadata": {},
   "outputs": [
    {
     "data": {
      "image/png": "[encoded data removed]",
      "text/plain": [
       "<Figure size 432x288 with 1 Axes>"
      ]
     },
     "metadata": {
      "needs_background": "light"
     },
     "output_type": "display_data"
    }
   ],
   "source": [
    "plt.figure()\n",
    "plt.hist(Sigma_Values, density=True, bins=50)\n",
    "plt.xlabel(r'$\\sigma$')\n",
    "plt.ylabel(r'$\\rm{L} \\ (\\sigma | \\ \\rm{data})$')\n",
    "plt.title(r'$\\sigma = 4.48^{+1.75}_{-0.95}$')\n",
    "plt.savefig('Likelihood.pdf')"
   ]
  },
  {
   "cell_type": "markdown",
   "metadata": {},
   "source": [
    "# Integral multidimensional..."
   ]
  },
  {
   "cell_type": "code",
   "execution_count": 9,
   "metadata": {},
   "outputs": [],
   "source": [
    "\n",
    "def Integral(N=100, d = 8):\n",
    "    \n",
    "    sum_ = 0.\n",
    "    \n",
    "    x = np.zeros((N,d))\n",
    "    \n",
    "    for i in range(N):\n",
    "        x[i] = np.random.rand(d)\n",
    "      \n",
    "    #print(x)\n",
    "    \n",
    "    sum_ = np.sum(x, axis=1)\n",
    "    \n",
    "    #print(sum_)\n",
    "    \n",
    "    integral = np.average(sum_**2)\n",
    "    integral *= 2.**-7\n",
    "    \n",
    "    print(integral)"
   ]
  },
  {
   "cell_type": "code",
   "execution_count": 10,
   "metadata": {},
   "outputs": [
    {
     "name": "stdout",
     "output_type": "stream",
     "text": [
      "0.1302185108165827\n"
     ]
    }
   ],
   "source": [
    "Integral(N=1000000, d=8)"
   ]
  },
  {
   "cell_type": "code",
   "execution_count": null,
   "metadata": {},
   "outputs": [],
   "source": []
  },
  {
   "cell_type": "code",
   "execution_count": null,
   "metadata": {},
   "outputs": [],
   "source": []
  }
 ],
 "metadata": {
  "kernelspec": {
   "display_name": "Python 3",
   "language": "python",
   "name": "python3"
  },
  "language_info": {
   "codemirror_mode": {
    "name": "ipython",
    "version": 2
   },
   "file_extension": ".py",
   "mimetype": "text/x-python",
   "name": "python",
   "nbconvert_exporter": "python",
   "pygments_lexer": "ipython2",
   "version": "2.7.16"
  }
 },
 "nbformat": 4,
 "nbformat_minor": 2
}
