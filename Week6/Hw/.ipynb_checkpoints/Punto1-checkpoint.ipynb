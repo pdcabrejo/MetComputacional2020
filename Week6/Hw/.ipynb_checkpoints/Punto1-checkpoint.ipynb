{
 "cells": [
  {
   "cell_type": "code",
   "execution_count": 27,
   "metadata": {},
   "outputs": [],
   "source": [
    "import numpy as np\n",
    "import matplotlib.pyplot as plt\n",
    "from matplotlib import rc\n",
    "from tqdm import tqdm\n",
    "from MyRandom import *"
   ]
  },
  {
   "cell_type": "code",
   "execution_count": 28,
   "metadata": {},
   "outputs": [],
   "source": [
    "# Vamos a crear una funcion de llenado\n",
    "\n",
    "def FillPoints( seed_, method_, Npoints):\n",
    "    \n",
    "    rand = MyRandom(seed = seed_, method = method_)\n",
    "    \n",
    "    points = np.zeros(Npoints)\n",
    "    \n",
    "    for i in tqdm(range(Npoints)):\n",
    "        points[i] = rand.Random()\n",
    "        \n",
    "    return points"
   ]
  },
  {
   "cell_type": "code",
   "execution_count": 29,
   "metadata": {},
   "outputs": [
    {
     "name": "stderr",
     "output_type": "stream",
     "text": [
      "100%|██████████| 10000/10000 [00:00<00:00, 365484.84it/s]\n",
      "100%|██████████| 10000/10000 [00:00<00:00, 319315.43it/s]\n"
     ]
    }
   ],
   "source": [
    "Npoints = 10000\n",
    "Nsimple = FillPoints(165, \"simple\", Npoints)\n",
    "Nrand48 = FillPoints(630, \"drand48\", Npoints)"
   ]
  },
  {
   "cell_type": "code",
   "execution_count": 38,
   "metadata": {},
   "outputs": [
    {
     "name": "stdout",
     "output_type": "stream",
     "text": [
      "[0.49433962 0.18113208 0.32830189 ... 0.36981132 0.08301887 0.73584906]\n",
      "[0.05643624 0.51068834 0.22866135 ... 0.63318262 0.85118262 0.38734542]\n"
     ]
    }
   ],
   "source": [
    "print(Nsimple)\n",
    "print(Nrand48)"
   ]
  },
  {
   "cell_type": "code",
   "execution_count": 39,
   "metadata": {},
   "outputs": [],
   "source": [
    "def Ckfunction(vector, Npoints_, moment):\n",
    "    \n",
    "    ck = []\n",
    "    \n",
    "    for k in tqdm(range(moment)):\n",
    "        k += 1\n",
    "        sum_ = 0.\n",
    "        \n",
    "        for i in range(len(vector[:-k])):\n",
    "            sum_ += vector[i]*vector[i+k]\n",
    "            \n",
    "        ck.append(sum_/(Npoints-1))\n",
    "\n",
    "    return ck"
   ]
  },
  {
   "cell_type": "code",
   "execution_count": 40,
   "metadata": {},
   "outputs": [
    {
     "name": "stderr",
     "output_type": "stream",
     "text": [
      "100%|██████████| 30/30 [00:00<00:00, 226.89it/s]\n",
      "100%|██████████| 30/30 [00:00<00:00, 207.51it/s]\n"
     ]
    }
   ],
   "source": [
    "Cksimple = Ckfunction(Nsimple, Npoints, 30)\n",
    "Ckrand48 = Ckfunction(Nrand48, Npoints, 30)"
   ]
  },
  {
   "cell_type": "code",
   "execution_count": 41,
   "metadata": {},
   "outputs": [
    {
     "data": {
      "text/plain": [
       "(0.2, 0.4)"
      ]
     },
     "execution_count": 41,
     "metadata": {},
     "output_type": "execute_result"
    },
    {
     "data": {
      "image/png": "[encoded data removed]",
      "text/plain": [
       "<Figure size 432x432 with 2 Axes>"
      ]
     },
     "metadata": {
      "needs_background": "light"
     },
     "output_type": "display_data"
    }
   ],
   "source": [
    "fig = plt.figure(figsize = (6,6))\n",
    "\n",
    "ax1 = fig.add_subplot(2,2,1)\n",
    "ax2 = fig.add_subplot(2,2,2)\n",
    "\n",
    "ax1.plot(Cksimple)\n",
    "ax1.set_xlabel('Momento k-esimo, Simple')\n",
    "ax1.set_ylabel('C(k)')\n",
    "\n",
    "ax1.set_ylim(0.2,0.4)\n",
    "\n",
    "ax2.plot(Ckrand48)\n",
    "ax2.set_xlabel('Momento k-esimo, drand48')\n",
    "#ax1.set_ylabel('C(k)')\n",
    "\n",
    "ax2.set_ylim(0.2,0.4)"
   ]
  },
  {
   "cell_type": "code",
   "execution_count": null,
   "metadata": {},
   "outputs": [],
   "source": []
  }
 ],
 "metadata": {
  "kernelspec": {
   "display_name": "Python 3",
   "language": "python",
   "name": "python3"
  },
  "language_info": {
   "codemirror_mode": {
    "name": "ipython",
    "version": 2
   },
   "file_extension": ".py",
   "mimetype": "text/x-python",
   "name": "python",
   "nbconvert_exporter": "python",
   "pygments_lexer": "ipython2",
   "version": "2.7.16"
  }
 },
 "nbformat": 4,
 "nbformat_minor": 2
}
