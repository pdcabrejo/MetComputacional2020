{
 "cells": [
  {
   "cell_type": "code",
   "execution_count": 1,
   "metadata": {},
   "outputs": [],
   "source": [
    "import numpy             as np\n",
    "import matplotlib.pyplot as plt\n",
    "import math"
   ]
  },
  {
   "cell_type": "code",
   "execution_count": 5,
   "metadata": {},
   "outputs": [],
   "source": [
    "def f(r):\n",
    "    return np.cos(r)\n",
    "\n",
    "def g(r):\n",
    "    return np.exp(-r**2)    \n",
    "\n",
    "def norm_gaussian(d=2, sigma=1.0):\n",
    "    return np.sqrt((2.0*np.pi*sigma**2)**d)\n",
    "\n",
    "def metropolis_hastings_D(f, N=100000, delta=1.0, d=2):\n",
    "    x = np.zeros((N, d))\n",
    "    for i in range(1,N):\n",
    "        x[i,:] = x[i-1,:] + (np.random.random(d)-0.5)*delta\n",
    "\n",
    "        future = f(np.sqrt(np.sum(x[i,:]**2)))\n",
    "        present = f(np.sqrt(np.sum(x[i-1,:]**2)))\n",
    "\n",
    "        r = np.minimum(1.0, future/present)\n",
    "        g = np.random.random()\n",
    "\n",
    "        if g < r:\n",
    "            x[i,:] = x[i,:]\n",
    "        else:\n",
    "            x[i,:] = x[i-1,:]\n",
    "    return x\n",
    "\n",
    "def mc_integral_D(f, g, d=2):\n",
    "    x = metropolis_hastings_D(g, d=d)    \n",
    "    r = np.sqrt(np.sum(x*x, axis=1))\n",
    "    average = np.average(f(r)) \n",
    "    norm = norm_gaussian(d=d, sigma = 1/np.sqrt(2))\n",
    "    plt.plot(x[:,0], x[:,1])\n",
    "    #plt.savefig('cadena2 dimensiones.pdf')\n",
    "    return average * norm"
   ]
  },
  {
   "cell_type": "code",
   "execution_count": null,
   "metadata": {},
   "outputs": [],
   "source": [
    "d=2\n",
    "print(mc_integral_D(f, g, d=d))"
   ]
  },
  {
   "cell_type": "code",
   "execution_count": null,
   "metadata": {},
   "outputs": [],
   "source": [
    "d=3\n",
    "print(mc_integral_D(f, g, d=d))"
   ]
  },
  {
   "cell_type": "code",
   "execution_count": null,
   "metadata": {},
   "outputs": [],
   "source": []
  }
 ],
 "metadata": {
  "kernelspec": {
   "display_name": "Python 3",
   "language": "python",
   "name": "python3"
  },
  "language_info": {
   "codemirror_mode": {
    "name": "ipython",
    "version": 2
   },
   "file_extension": ".py",
   "mimetype": "text/x-python",
   "name": "python",
   "nbconvert_exporter": "python",
   "pygments_lexer": "ipython2",
   "version": "2.7.16"
  }
 },
 "nbformat": 4,
 "nbformat_minor": 2
}
